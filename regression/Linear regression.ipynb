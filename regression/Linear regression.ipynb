{
 "cells": [
  {
   "cell_type": "markdown",
   "metadata": {},
   "source": [
    "### Linear Regression"
   ]
  },
  {
   "cell_type": "code",
   "execution_count": 1,
   "metadata": {},
   "outputs": [],
   "source": [
    "from __future__ import print_function\n",
    "import torch\n",
    "from torch.autograd import Variable\n",
    "import torch.utils.data as utils\n",
    "import torch.nn as nn\n",
    "import torch.nn.functional as F\n",
    "import torch.optim as optim"
   ]
  },
  {
   "cell_type": "code",
   "execution_count": 2,
   "metadata": {},
   "outputs": [],
   "source": [
    "num_inputs=2\n",
    "num_outputs=1\n",
    "num_examples=10000\n",
    "dtype=torch.cuda.FloatTensor\n"
   ]
  },
  {
   "cell_type": "code",
   "execution_count": 16,
   "metadata": {},
   "outputs": [],
   "source": [
    "W =  Variable(torch.randn(num_inputs,num_outputs).type(dtype), requires_grad=True)\n",
    "B =  Variable(torch.randn(num_outputs).type(dtype), requires_grad=True)\n",
    "\n",
    "X =  Variable(torch.randn(num_examples, num_inputs).type(dtype), requires_grad=False)\n",
    "Y =  Variable(torch.randn(num_examples,num_outputs).type(dtype), requires_grad=False)\n",
    "\n",
    "Y=X.mm(W)+0.03*B"
   ]
  },
  {
   "cell_type": "code",
   "execution_count": 17,
   "metadata": {},
   "outputs": [],
   "source": [
    "my_dataset = utils.TensorDataset(X.data,Y.data) # create your datset\n",
    "dataloader = utils.DataLoader(my_dataset,batch_size=4) # create your dataloader"
   ]
  },
  {
   "cell_type": "code",
   "execution_count": 18,
   "metadata": {},
   "outputs": [],
   "source": [
    "def getdata():\n",
    "    for i,x in enumerate(dataloader):\n",
    "        return x\n",
    "    \n",
    "def fc(X):\n",
    "    aa= X.mm(W)+B\n",
    "    return aa\n",
    "    "
   ]
  },
  {
   "cell_type": "code",
   "execution_count": null,
   "metadata": {},
   "outputs": [
    {
     "name": "stdout",
     "output_type": "stream",
     "text": [
      "0 0.12249673902988434\n",
      "100 0.12217274308204651\n",
      "200 0.12185162305831909\n",
      "300 0.1215333342552185\n",
      "400 0.12121830880641937\n",
      "500 0.12090738862752914\n",
      "600 0.12060075253248215\n",
      "700 0.1202969178557396\n",
      "800 0.11999580264091492\n",
      "900 0.11969751864671707\n",
      "1000 0.11940203607082367\n",
      "1100 0.1191084086894989\n",
      "1200 0.11881757527589798\n",
      "1300 0.11852949857711792\n",
      "1400 0.11824627220630646\n",
      "1500 0.11796759068965912\n",
      "1600 0.11769163608551025\n",
      "1700 0.11741837114095688\n",
      "1800 0.11714696884155273\n",
      "1900 0.11687830835580826\n",
      "2000 0.11661234498023987\n",
      "2100 0.11634913831949234\n",
      "2200 0.11608975380659103\n",
      "2300 0.11583403497934341\n",
      "2400 0.1155809760093689\n",
      "2500 0.11533047258853912\n",
      "2600 0.11508341878652573\n",
      "2700 0.11483906209468842\n",
      "2800 0.11459743976593018\n",
      "2900 0.11435841023921967\n",
      "3000 0.11412215232849121\n"
     ]
    }
   ],
   "source": [
    "for i in range(5000):\n",
    "    x,y=getdata()\n",
    "    x=Variable(x)\n",
    "    y=Variable(y)\n",
    "    pred=fc(x)\n",
    "    #sprint(y,pred.cuda())\n",
    "    loss=(pred - y).pow(2).sum()\n",
    "   \n",
    "    loss.backward()\n",
    "    if i%100==0:\n",
    "        \n",
    "        print(i,loss.data[0])\n",
    "    W.data-=(W.data*0.00001)\n",
    "    B.data-=(B.data*0.00001)\n",
    "    W.grad.data.zero_()\n",
    "    B.grad.data.zero_()\n",
    "    "
   ]
  },
  {
   "cell_type": "code",
   "execution_count": null,
   "metadata": {},
   "outputs": [],
   "source": []
  },
  {
   "cell_type": "code",
   "execution_count": null,
   "metadata": {},
   "outputs": [],
   "source": []
  }
 ],
 "metadata": {
  "kernelspec": {
   "display_name": "Python 3",
   "language": "python",
   "name": "python3"
  },
  "language_info": {
   "codemirror_mode": {
    "name": "ipython",
    "version": 3
   },
   "file_extension": ".py",
   "mimetype": "text/x-python",
   "name": "python",
   "nbconvert_exporter": "python",
   "pygments_lexer": "ipython3",
   "version": "3.5.2"
  }
 },
 "nbformat": 4,
 "nbformat_minor": 2
}
